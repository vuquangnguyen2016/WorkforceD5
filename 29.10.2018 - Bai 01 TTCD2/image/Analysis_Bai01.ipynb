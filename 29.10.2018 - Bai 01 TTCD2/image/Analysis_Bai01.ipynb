{
 "cells": [
  {
   "cell_type": "markdown",
   "metadata": {},
   "source": [
    "# DATA ANALYSIS - Bai 01\n"
   ]
  },
  {
   "cell_type": "code",
   "execution_count": 1,
   "metadata": {},
   "outputs": [],
   "source": [
    "import pandas as pd\n",
    "import numpy as np\n",
    "import matplotlib.pylab as plt\n",
    "import statsmodels.formula.api as smf"
   ]
  },
  {
   "cell_type": "code",
   "execution_count": 2,
   "metadata": {},
   "outputs": [
    {
     "data": {
      "text/html": [
       "<div>\n",
       "<style scoped>\n",
       "    .dataframe tbody tr th:only-of-type {\n",
       "        vertical-align: middle;\n",
       "    }\n",
       "\n",
       "    .dataframe tbody tr th {\n",
       "        vertical-align: top;\n",
       "    }\n",
       "\n",
       "    .dataframe thead th {\n",
       "        text-align: right;\n",
       "    }\n",
       "</style>\n",
       "<table border=\"1\" class=\"dataframe\">\n",
       "  <thead>\n",
       "    <tr style=\"text-align: right;\">\n",
       "      <th></th>\n",
       "      <th>Dongvi</th>\n",
       "      <th>Ten</th>\n",
       "      <th>m</th>\n",
       "      <th>N1</th>\n",
       "      <th>Sigma</th>\n",
       "    </tr>\n",
       "  </thead>\n",
       "  <tbody>\n",
       "    <tr>\n",
       "      <th>0</th>\n",
       "      <td>56Mn</td>\n",
       "      <td>SS1</td>\n",
       "      <td>0.5</td>\n",
       "      <td>373</td>\n",
       "      <td>5.78</td>\n",
       "    </tr>\n",
       "    <tr>\n",
       "      <th>1</th>\n",
       "      <td>56Mn</td>\n",
       "      <td>SS2</td>\n",
       "      <td>0.8</td>\n",
       "      <td>613</td>\n",
       "      <td>4.19</td>\n",
       "    </tr>\n",
       "    <tr>\n",
       "      <th>2</th>\n",
       "      <td>56Mn</td>\n",
       "      <td>SS3</td>\n",
       "      <td>1.5</td>\n",
       "      <td>1062</td>\n",
       "      <td>3.15</td>\n",
       "    </tr>\n",
       "    <tr>\n",
       "      <th>3</th>\n",
       "      <td>56Mn</td>\n",
       "      <td>X1</td>\n",
       "      <td>1.2</td>\n",
       "      <td>913</td>\n",
       "      <td>3.46</td>\n",
       "    </tr>\n",
       "    <tr>\n",
       "      <th>4</th>\n",
       "      <td>52V</td>\n",
       "      <td>SS1</td>\n",
       "      <td>1.5</td>\n",
       "      <td>247</td>\n",
       "      <td>6.51</td>\n",
       "    </tr>\n",
       "    <tr>\n",
       "      <th>5</th>\n",
       "      <td>52V</td>\n",
       "      <td>SS2</td>\n",
       "      <td>1.0</td>\n",
       "      <td>164</td>\n",
       "      <td>8.09</td>\n",
       "    </tr>\n",
       "    <tr>\n",
       "      <th>6</th>\n",
       "      <td>52V</td>\n",
       "      <td>SS3</td>\n",
       "      <td>0.7</td>\n",
       "      <td>127</td>\n",
       "      <td>9.67</td>\n",
       "    </tr>\n",
       "    <tr>\n",
       "      <th>7</th>\n",
       "      <td>52V</td>\n",
       "      <td>X1</td>\n",
       "      <td>1.2</td>\n",
       "      <td>179</td>\n",
       "      <td>8.41</td>\n",
       "    </tr>\n",
       "  </tbody>\n",
       "</table>\n",
       "</div>"
      ],
      "text/plain": [
       "  Dongvi     Ten    m    N1  Sigma\n",
       "0   56Mn     SS1  0.5   373   5.78\n",
       "1   56Mn     SS2  0.8   613   4.19\n",
       "2   56Mn     SS3  1.5  1062   3.15\n",
       "3   56Mn      X1  1.2   913   3.46\n",
       "4    52V     SS1  1.5   247   6.51\n",
       "5    52V     SS2  1.0   164   8.09\n",
       "6    52V     SS3  0.7   127   9.67\n",
       "7    52V      X1  1.2   179   8.41"
      ]
     },
     "execution_count": 2,
     "metadata": {},
     "output_type": "execute_result"
    }
   ],
   "source": [
    "data=pd.read_csv('Data_Bai01.csv')\n",
    "data"
   ]
  },
  {
   "cell_type": "code",
   "execution_count": 3,
   "metadata": {},
   "outputs": [
    {
     "data": {
      "text/html": [
       "<div>\n",
       "<style scoped>\n",
       "    .dataframe tbody tr th:only-of-type {\n",
       "        vertical-align: middle;\n",
       "    }\n",
       "\n",
       "    .dataframe tbody tr th {\n",
       "        vertical-align: top;\n",
       "    }\n",
       "\n",
       "    .dataframe thead th {\n",
       "        text-align: right;\n",
       "    }\n",
       "</style>\n",
       "<table border=\"1\" class=\"dataframe\">\n",
       "  <thead>\n",
       "    <tr style=\"text-align: right;\">\n",
       "      <th></th>\n",
       "      <th>Dongvi</th>\n",
       "      <th>Ten</th>\n",
       "      <th>m</th>\n",
       "      <th>N1</th>\n",
       "      <th>Sigma</th>\n",
       "      <th>w</th>\n",
       "      <th>Area</th>\n",
       "    </tr>\n",
       "  </thead>\n",
       "  <tbody>\n",
       "    <tr>\n",
       "      <th>0</th>\n",
       "      <td>56Mn</td>\n",
       "      <td>SS1</td>\n",
       "      <td>0.5</td>\n",
       "      <td>373</td>\n",
       "      <td>5.78</td>\n",
       "      <td>0.065476</td>\n",
       "      <td>373</td>\n",
       "    </tr>\n",
       "    <tr>\n",
       "      <th>1</th>\n",
       "      <td>56Mn</td>\n",
       "      <td>SS2</td>\n",
       "      <td>0.8</td>\n",
       "      <td>613</td>\n",
       "      <td>4.19</td>\n",
       "      <td>0.104762</td>\n",
       "      <td>613</td>\n",
       "    </tr>\n",
       "    <tr>\n",
       "      <th>2</th>\n",
       "      <td>56Mn</td>\n",
       "      <td>SS3</td>\n",
       "      <td>1.5</td>\n",
       "      <td>1062</td>\n",
       "      <td>3.15</td>\n",
       "      <td>0.196429</td>\n",
       "      <td>1062</td>\n",
       "    </tr>\n",
       "    <tr>\n",
       "      <th>3</th>\n",
       "      <td>56Mn</td>\n",
       "      <td>X1</td>\n",
       "      <td>1.2</td>\n",
       "      <td>913</td>\n",
       "      <td>3.46</td>\n",
       "      <td>NaN</td>\n",
       "      <td>913</td>\n",
       "    </tr>\n",
       "    <tr>\n",
       "      <th>4</th>\n",
       "      <td>52V</td>\n",
       "      <td>SS1</td>\n",
       "      <td>1.5</td>\n",
       "      <td>247</td>\n",
       "      <td>6.51</td>\n",
       "      <td>0.166304</td>\n",
       "      <td>247</td>\n",
       "    </tr>\n",
       "    <tr>\n",
       "      <th>5</th>\n",
       "      <td>52V</td>\n",
       "      <td>SS2</td>\n",
       "      <td>1.0</td>\n",
       "      <td>164</td>\n",
       "      <td>8.09</td>\n",
       "      <td>0.110870</td>\n",
       "      <td>164</td>\n",
       "    </tr>\n",
       "    <tr>\n",
       "      <th>6</th>\n",
       "      <td>52V</td>\n",
       "      <td>SS3</td>\n",
       "      <td>0.7</td>\n",
       "      <td>127</td>\n",
       "      <td>9.67</td>\n",
       "      <td>0.077609</td>\n",
       "      <td>127</td>\n",
       "    </tr>\n",
       "    <tr>\n",
       "      <th>7</th>\n",
       "      <td>52V</td>\n",
       "      <td>X1</td>\n",
       "      <td>1.2</td>\n",
       "      <td>179</td>\n",
       "      <td>8.41</td>\n",
       "      <td>NaN</td>\n",
       "      <td>179</td>\n",
       "    </tr>\n",
       "  </tbody>\n",
       "</table>\n",
       "</div>"
      ],
      "text/plain": [
       "  Dongvi     Ten    m    N1  Sigma         w  Area\n",
       "0   56Mn     SS1  0.5   373   5.78  0.065476   373\n",
       "1   56Mn     SS2  0.8   613   4.19  0.104762   613\n",
       "2   56Mn     SS3  1.5  1062   3.15  0.196429  1062\n",
       "3   56Mn      X1  1.2   913   3.46       NaN   913\n",
       "4    52V     SS1  1.5   247   6.51  0.166304   247\n",
       "5    52V     SS2  1.0   164   8.09  0.110870   164\n",
       "6    52V     SS3  0.7   127   9.67  0.077609   127\n",
       "7    52V      X1  1.2   179   8.41       NaN   179"
      ]
     },
     "execution_count": 3,
     "metadata": {},
     "output_type": "execute_result"
    }
   ],
   "source": [
    "m_hh=5\n",
    "data['w']=np.NaN\n",
    "data.loc[0:2,'w']=data.loc[0:2,'m']/m_hh*(55)/(52+16*2)\n",
    "data.loc[4:6,'w']=data.loc[4:6,'m']/m_hh*(51*2)/(52*2+16*5)\n",
    "data['Area']=data['N1']\n",
    "data"
   ]
  },
  {
   "cell_type": "code",
   "execution_count": 5,
   "metadata": {},
   "outputs": [],
   "source": [
    "fit_Mn=smf.ols(formula='w~Area',data=data.loc[0:2,]).fit()\n",
    "fit_V=smf.ols(formula='w~Area',data=data.loc[4:6,]).fit()"
   ]
  },
  {
   "cell_type": "code",
   "execution_count": 8,
   "metadata": {},
   "outputs": [
    {
     "data": {
      "text/plain": [
       "Intercept   -0.008757\n",
       "Area         0.000192\n",
       "dtype: float64"
      ]
     },
     "execution_count": 8,
     "metadata": {},
     "output_type": "execute_result"
    }
   ],
   "source": [
    "fit_Mn.params\n"
   ]
  },
  {
   "cell_type": "code",
   "execution_count": 9,
   "metadata": {},
   "outputs": [
    {
     "data": {
      "text/plain": [
       "Intercept   -0.012137\n",
       "Area         0.000727\n",
       "dtype: float64"
      ]
     },
     "execution_count": 9,
     "metadata": {},
     "output_type": "execute_result"
    }
   ],
   "source": [
    "fit_V.params"
   ]
  },
  {
   "cell_type": "code",
   "execution_count": 24,
   "metadata": {},
   "outputs": [],
   "source": [
    "data.loc[3,'w']=np.float64(fit_Mn.predict({'Area':data.loc[3,'Area']}))\n",
    "data.loc[7,'w']=np.float64(fit_V.predict({'Area':data.loc[7,'Area']}))"
   ]
  },
  {
   "cell_type": "code",
   "execution_count": 25,
   "metadata": {},
   "outputs": [
    {
     "data": {
      "text/html": [
       "<div>\n",
       "<style scoped>\n",
       "    .dataframe tbody tr th:only-of-type {\n",
       "        vertical-align: middle;\n",
       "    }\n",
       "\n",
       "    .dataframe tbody tr th {\n",
       "        vertical-align: top;\n",
       "    }\n",
       "\n",
       "    .dataframe thead th {\n",
       "        text-align: right;\n",
       "    }\n",
       "</style>\n",
       "<table border=\"1\" class=\"dataframe\">\n",
       "  <thead>\n",
       "    <tr style=\"text-align: right;\">\n",
       "      <th></th>\n",
       "      <th>Dongvi</th>\n",
       "      <th>Ten</th>\n",
       "      <th>m</th>\n",
       "      <th>N1</th>\n",
       "      <th>Sigma</th>\n",
       "      <th>w</th>\n",
       "      <th>Area</th>\n",
       "    </tr>\n",
       "  </thead>\n",
       "  <tbody>\n",
       "    <tr>\n",
       "      <th>0</th>\n",
       "      <td>56Mn</td>\n",
       "      <td>SS1</td>\n",
       "      <td>0.5</td>\n",
       "      <td>373</td>\n",
       "      <td>5.78</td>\n",
       "      <td>0.065476</td>\n",
       "      <td>373</td>\n",
       "    </tr>\n",
       "    <tr>\n",
       "      <th>1</th>\n",
       "      <td>56Mn</td>\n",
       "      <td>SS2</td>\n",
       "      <td>0.8</td>\n",
       "      <td>613</td>\n",
       "      <td>4.19</td>\n",
       "      <td>0.104762</td>\n",
       "      <td>613</td>\n",
       "    </tr>\n",
       "    <tr>\n",
       "      <th>2</th>\n",
       "      <td>56Mn</td>\n",
       "      <td>SS3</td>\n",
       "      <td>1.5</td>\n",
       "      <td>1062</td>\n",
       "      <td>3.15</td>\n",
       "      <td>0.196429</td>\n",
       "      <td>1062</td>\n",
       "    </tr>\n",
       "    <tr>\n",
       "      <th>3</th>\n",
       "      <td>56Mn</td>\n",
       "      <td>X1</td>\n",
       "      <td>1.2</td>\n",
       "      <td>913</td>\n",
       "      <td>3.46</td>\n",
       "      <td>0.166415</td>\n",
       "      <td>913</td>\n",
       "    </tr>\n",
       "    <tr>\n",
       "      <th>4</th>\n",
       "      <td>52V</td>\n",
       "      <td>SS1</td>\n",
       "      <td>1.5</td>\n",
       "      <td>247</td>\n",
       "      <td>6.51</td>\n",
       "      <td>0.166304</td>\n",
       "      <td>247</td>\n",
       "    </tr>\n",
       "    <tr>\n",
       "      <th>5</th>\n",
       "      <td>52V</td>\n",
       "      <td>SS2</td>\n",
       "      <td>1.0</td>\n",
       "      <td>164</td>\n",
       "      <td>8.09</td>\n",
       "      <td>0.110870</td>\n",
       "      <td>164</td>\n",
       "    </tr>\n",
       "    <tr>\n",
       "      <th>6</th>\n",
       "      <td>52V</td>\n",
       "      <td>SS3</td>\n",
       "      <td>0.7</td>\n",
       "      <td>127</td>\n",
       "      <td>9.67</td>\n",
       "      <td>0.077609</td>\n",
       "      <td>127</td>\n",
       "    </tr>\n",
       "    <tr>\n",
       "      <th>7</th>\n",
       "      <td>52V</td>\n",
       "      <td>X1</td>\n",
       "      <td>1.2</td>\n",
       "      <td>179</td>\n",
       "      <td>8.41</td>\n",
       "      <td>0.118018</td>\n",
       "      <td>179</td>\n",
       "    </tr>\n",
       "  </tbody>\n",
       "</table>\n",
       "</div>"
      ],
      "text/plain": [
       "  Dongvi     Ten    m    N1  Sigma         w  Area\n",
       "0   56Mn     SS1  0.5   373   5.78  0.065476   373\n",
       "1   56Mn     SS2  0.8   613   4.19  0.104762   613\n",
       "2   56Mn     SS3  1.5  1062   3.15  0.196429  1062\n",
       "3   56Mn      X1  1.2   913   3.46  0.166415   913\n",
       "4    52V     SS1  1.5   247   6.51  0.166304   247\n",
       "5    52V     SS2  1.0   164   8.09  0.110870   164\n",
       "6    52V     SS3  0.7   127   9.67  0.077609   127\n",
       "7    52V      X1  1.2   179   8.41  0.118018   179"
      ]
     },
     "execution_count": 25,
     "metadata": {},
     "output_type": "execute_result"
    }
   ],
   "source": [
    "data"
   ]
  },
  {
   "cell_type": "code",
   "execution_count": 39,
   "metadata": {},
   "outputs": [
    {
     "data": {
      "image/png": "[encoded data removed]",
      "text/plain": [
       "<Figure size 432x288 with 1 Axes>"
      ]
     },
     "metadata": {
      "needs_background": "light"
     },
     "output_type": "display_data"
    }
   ],
   "source": [
    "import seaborn as sn\n",
    "plot1=plt.subplots()\n",
    "plot1=sn.regplot(x='Area',y='w',data=data.loc[0:2,])\n",
    "plot1=plt.scatter(x='Area',y='w',c='red',data=data.loc[3,])\n",
    "plt.show()"
   ]
  },
  {
   "cell_type": "code",
   "execution_count": 42,
   "metadata": {},
   "outputs": [
    {
     "data": {
      "image/png": "[encoded data removed]",
      "text/plain": [
       "<Figure size 432x288 with 1 Axes>"
      ]
     },
     "metadata": {
      "needs_background": "light"
     },
     "output_type": "display_data"
    }
   ],
   "source": [
    "import seaborn as sn\n",
    "plot1=plt.subplots()\n",
    "plot1=sn.regplot(x='Area',y='w',data=data.loc[4:6,])\n",
    "plot1=plt.scatter(x='Area',y='w',c='red',data=data.loc[7,])\n",
    "plt.show()"
   ]
  }
 ],
 "metadata": {
  "kernelspec": {
   "display_name": "Python 3",
   "language": "python",
   "name": "python3"
  },
  "language_info": {
   "codemirror_mode": {
    "name": "ipython",
    "version": 3
   },
   "file_extension": ".py",
   "mimetype": "text/x-python",
   "name": "python",
   "nbconvert_exporter": "python",
   "pygments_lexer": "ipython3",
   "version": "3.7.1"
  }
 },
 "nbformat": 4,
 "nbformat_minor": 2
}
