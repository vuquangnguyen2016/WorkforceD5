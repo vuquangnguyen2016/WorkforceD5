{
 "cells": [
  {
   "cell_type": "markdown",
   "metadata": {},
   "source": [
    "# DATA ANALYSIS - Bai 01\n",
    "## Vu Quang Nguyen - Date Modified = 2018.10.29-12.02AM\n"
   ]
  },
  {
   "cell_type": "code",
   "execution_count": 2,
   "metadata": {},
   "outputs": [],
   "source": [
    "import pandas as pd\n",
    "import numpy as np\n",
    "import matplotlib.pylab as plt\n",
    "import statsmodels.formula.api as smf"
   ]
  },
  {
   "cell_type": "code",
   "execution_count": 3,
   "metadata": {},
   "outputs": [],
   "source": [
    "data=pd.read_csv('Data_Bai01.csv')"
   ]
  },
  {
   "cell_type": "code",
   "execution_count": 4,
   "metadata": {},
   "outputs": [],
   "source": [
    "m_hh=5\n",
    "data['w']=np.NaN\n",
    "data.loc[0:2,'w']=data.loc[0:2,'m']/m_hh*(55)/(52+16*2)\n",
    "data.loc[6:8,'w']=data.loc[6:8,'m']/m_hh*(51*2)/(52*2+16*5)\n",
    "data['Area']=data['N1']"
   ]
  },
  {
   "cell_type": "code",
   "execution_count": 5,
   "metadata": {},
   "outputs": [],
   "source": [
    "fit_Mn=smf.ols(formula='w~Area',data=data.loc[0:2,]).fit()\n",
    "fit_V=smf.ols(formula='w~Area',data=data.loc[6:8,]).fit()"
   ]
  },
  {
   "cell_type": "code",
   "execution_count": 6,
   "metadata": {},
   "outputs": [
    {
     "data": {
      "text/plain": [
       "Intercept   -0.008757\n",
       "Area         0.000192\n",
       "Intercept   -0.012137\n",
       "Area         0.000727\n",
       "dtype: float64"
      ]
     },
     "execution_count": 6,
     "metadata": {},
     "output_type": "execute_result"
    }
   ],
   "source": [
    "# Ham so dang = y = a+ bx (Mn-> V)\n",
    "pd.concat([fit_Mn.params,fit_V.params])"
   ]
  },
  {
   "cell_type": "code",
   "execution_count": 7,
   "metadata": {},
   "outputs": [
    {
     "data": {
      "text/plain": [
       "Intercept    0.007615\n",
       "Area         0.000010\n",
       "Intercept    0.010101\n",
       "Area         0.000054\n",
       "dtype: float64"
      ]
     },
     "execution_count": 7,
     "metadata": {},
     "output_type": "execute_result"
    }
   ],
   "source": [
    "# TINH SAI SO = (sigma_a -> sigma_b) (Mn-> V)\n",
    "pd.concat([fit_Mn.bse,fit_V.bse])\n"
   ]
  },
  {
   "cell_type": "code",
   "execution_count": 8,
   "metadata": {},
   "outputs": [
    {
     "data": {
      "text/html": [
       "<div>\n",
       "<style scoped>\n",
       "    .dataframe tbody tr th:only-of-type {\n",
       "        vertical-align: middle;\n",
       "    }\n",
       "\n",
       "    .dataframe tbody tr th {\n",
       "        vertical-align: top;\n",
       "    }\n",
       "\n",
       "    .dataframe thead th {\n",
       "        text-align: right;\n",
       "    }\n",
       "</style>\n",
       "<table border=\"1\" class=\"dataframe\">\n",
       "  <thead>\n",
       "    <tr style=\"text-align: right;\">\n",
       "      <th></th>\n",
       "      <th>Dongvi</th>\n",
       "      <th>Ten</th>\n",
       "      <th>m</th>\n",
       "      <th>N1</th>\n",
       "      <th>Sigma</th>\n",
       "      <th>w</th>\n",
       "      <th>Area</th>\n",
       "      <th>Sigma_w</th>\n",
       "      <th>w_lithuyet</th>\n",
       "      <th>Saiso</th>\n",
       "    </tr>\n",
       "  </thead>\n",
       "  <tbody>\n",
       "    <tr>\n",
       "      <th>0</th>\n",
       "      <td>56Mn</td>\n",
       "      <td>SS1</td>\n",
       "      <td>0.5</td>\n",
       "      <td>373</td>\n",
       "      <td>5.78</td>\n",
       "      <td>0.065476</td>\n",
       "      <td>373</td>\n",
       "      <td>NaN</td>\n",
       "      <td>NaN</td>\n",
       "      <td>NaN</td>\n",
       "    </tr>\n",
       "    <tr>\n",
       "      <th>1</th>\n",
       "      <td>56Mn</td>\n",
       "      <td>SS2</td>\n",
       "      <td>0.8</td>\n",
       "      <td>613</td>\n",
       "      <td>4.19</td>\n",
       "      <td>0.104762</td>\n",
       "      <td>613</td>\n",
       "      <td>NaN</td>\n",
       "      <td>NaN</td>\n",
       "      <td>NaN</td>\n",
       "    </tr>\n",
       "    <tr>\n",
       "      <th>2</th>\n",
       "      <td>56Mn</td>\n",
       "      <td>SS3</td>\n",
       "      <td>1.5</td>\n",
       "      <td>1062</td>\n",
       "      <td>3.15</td>\n",
       "      <td>0.196429</td>\n",
       "      <td>1062</td>\n",
       "      <td>NaN</td>\n",
       "      <td>NaN</td>\n",
       "      <td>NaN</td>\n",
       "    </tr>\n",
       "    <tr>\n",
       "      <th>3</th>\n",
       "      <td>56Mn</td>\n",
       "      <td>X1</td>\n",
       "      <td>1.2</td>\n",
       "      <td>913</td>\n",
       "      <td>3.46</td>\n",
       "      <td>0.166415</td>\n",
       "      <td>913</td>\n",
       "      <td>0.007622</td>\n",
       "      <td>0.157143</td>\n",
       "      <td>5.900366</td>\n",
       "    </tr>\n",
       "    <tr>\n",
       "      <th>4</th>\n",
       "      <td>56Mn</td>\n",
       "      <td>X2</td>\n",
       "      <td>0.6</td>\n",
       "      <td>413</td>\n",
       "      <td>5.29</td>\n",
       "      <td>0.070483</td>\n",
       "      <td>413</td>\n",
       "      <td>0.007618</td>\n",
       "      <td>0.078571</td>\n",
       "      <td>10.294441</td>\n",
       "    </tr>\n",
       "    <tr>\n",
       "      <th>5</th>\n",
       "      <td>56Mn</td>\n",
       "      <td>X3</td>\n",
       "      <td>0.6</td>\n",
       "      <td>453</td>\n",
       "      <td>5.06</td>\n",
       "      <td>0.078157</td>\n",
       "      <td>453</td>\n",
       "      <td>0.007619</td>\n",
       "      <td>0.078571</td>\n",
       "      <td>0.526827</td>\n",
       "    </tr>\n",
       "    <tr>\n",
       "      <th>6</th>\n",
       "      <td>52V</td>\n",
       "      <td>SS1</td>\n",
       "      <td>1.5</td>\n",
       "      <td>247</td>\n",
       "      <td>6.51</td>\n",
       "      <td>0.166304</td>\n",
       "      <td>247</td>\n",
       "      <td>NaN</td>\n",
       "      <td>NaN</td>\n",
       "      <td>NaN</td>\n",
       "    </tr>\n",
       "    <tr>\n",
       "      <th>7</th>\n",
       "      <td>52V</td>\n",
       "      <td>SS2</td>\n",
       "      <td>1.0</td>\n",
       "      <td>164</td>\n",
       "      <td>8.09</td>\n",
       "      <td>0.110870</td>\n",
       "      <td>164</td>\n",
       "      <td>NaN</td>\n",
       "      <td>NaN</td>\n",
       "      <td>NaN</td>\n",
       "    </tr>\n",
       "    <tr>\n",
       "      <th>8</th>\n",
       "      <td>52V</td>\n",
       "      <td>SS3</td>\n",
       "      <td>0.7</td>\n",
       "      <td>127</td>\n",
       "      <td>9.67</td>\n",
       "      <td>0.077609</td>\n",
       "      <td>127</td>\n",
       "      <td>NaN</td>\n",
       "      <td>NaN</td>\n",
       "      <td>NaN</td>\n",
       "    </tr>\n",
       "    <tr>\n",
       "      <th>9</th>\n",
       "      <td>52V</td>\n",
       "      <td>X1</td>\n",
       "      <td>1.2</td>\n",
       "      <td>179</td>\n",
       "      <td>8.41</td>\n",
       "      <td>0.118018</td>\n",
       "      <td>179</td>\n",
       "      <td>0.010127</td>\n",
       "      <td>0.133043</td>\n",
       "      <td>11.293289</td>\n",
       "    </tr>\n",
       "    <tr>\n",
       "      <th>10</th>\n",
       "      <td>52V</td>\n",
       "      <td>X2</td>\n",
       "      <td>0.9</td>\n",
       "      <td>147</td>\n",
       "      <td>9.19</td>\n",
       "      <td>0.094750</td>\n",
       "      <td>147</td>\n",
       "      <td>0.010122</td>\n",
       "      <td>0.099783</td>\n",
       "      <td>5.043105</td>\n",
       "    </tr>\n",
       "    <tr>\n",
       "      <th>11</th>\n",
       "      <td>52V</td>\n",
       "      <td>X3</td>\n",
       "      <td>0.9</td>\n",
       "      <td>154</td>\n",
       "      <td>8.66</td>\n",
       "      <td>0.099840</td>\n",
       "      <td>154</td>\n",
       "      <td>0.010123</td>\n",
       "      <td>0.099783</td>\n",
       "      <td>0.057865</td>\n",
       "    </tr>\n",
       "  </tbody>\n",
       "</table>\n",
       "</div>"
      ],
      "text/plain": [
       "   Dongvi     Ten    m    N1  Sigma         w  Area   Sigma_w  w_lithuyet  \\\n",
       "0    56Mn     SS1  0.5   373   5.78  0.065476   373       NaN         NaN   \n",
       "1    56Mn     SS2  0.8   613   4.19  0.104762   613       NaN         NaN   \n",
       "2    56Mn     SS3  1.5  1062   3.15  0.196429  1062       NaN         NaN   \n",
       "3    56Mn      X1  1.2   913   3.46  0.166415   913  0.007622    0.157143   \n",
       "4    56Mn      X2  0.6   413   5.29  0.070483   413  0.007618    0.078571   \n",
       "5    56Mn      X3  0.6   453   5.06  0.078157   453  0.007619    0.078571   \n",
       "6     52V     SS1  1.5   247   6.51  0.166304   247       NaN         NaN   \n",
       "7     52V     SS2  1.0   164   8.09  0.110870   164       NaN         NaN   \n",
       "8     52V     SS3  0.7   127   9.67  0.077609   127       NaN         NaN   \n",
       "9     52V      X1  1.2   179   8.41  0.118018   179  0.010127    0.133043   \n",
       "10    52V      X2  0.9   147   9.19  0.094750   147  0.010122    0.099783   \n",
       "11    52V      X3  0.9   154   8.66  0.099840   154  0.010123    0.099783   \n",
       "\n",
       "        Saiso  \n",
       "0         NaN  \n",
       "1         NaN  \n",
       "2         NaN  \n",
       "3    5.900366  \n",
       "4   10.294441  \n",
       "5    0.526827  \n",
       "6         NaN  \n",
       "7         NaN  \n",
       "8         NaN  \n",
       "9   11.293289  \n",
       "10   5.043105  \n",
       "11   0.057865  "
      ]
     },
     "execution_count": 8,
     "metadata": {},
     "output_type": "execute_result"
    }
   ],
   "source": [
    "data.loc[3:5,'w']=np.float64(fit_Mn.predict({'Area':data.loc[3:5,'Area']}))\n",
    "data.loc[9:,'w']=np.float64(fit_V.predict({'Area':data.loc[9:,'Area']}))\n",
    "# TInh Sai SO\n",
    "data['Sigma_w']=np.NaN\n",
    "data.loc[3:5,'Sigma_w']=np.sqrt(fit_Mn.bse[0]**2 +(fit_Mn.bse[1]**2)*data.loc[3:5,'Area'])\n",
    "data.loc[9:,'Sigma_w']=np.sqrt(fit_V.bse[0]**2   +(fit_V.bse[1]**2)*data.loc[9:,'Area'])\n",
    "# Danh gia sai so \n",
    "data['w_lithuyet']=np.NaN\n",
    "m_hh=5\n",
    "data.loc[3:5,'w_lithuyet']=data.loc[3:5,'m']/m_hh*(55)/(52+16*2)\n",
    "data.loc[9:,'w_lithuyet']=data.loc[9:,'m']/m_hh*(51*2)/(52*2+16*5)\n",
    "# Sai so = (w - w_lithuyet)/w_lithuyet * 100\n",
    "data['Saiso']=np.NaN\n",
    "data['Saiso']=np.abs((data['w']-data['w_lithuyet'])/data['w_lithuyet']*100)\n",
    "data"
   ]
  },
  {
   "cell_type": "code",
   "execution_count": 9,
   "metadata": {},
   "outputs": [
    {
     "name": "stderr",
     "output_type": "stream",
     "text": [
      "c:\\program files\\python37\\lib\\site-packages\\scipy\\stats\\stats.py:1713: FutureWarning: Using a non-tuple sequence for multidimensional indexing is deprecated; use `arr[tuple(seq)]` instead of `arr[seq]`. In the future this will be interpreted as an array index, `arr[np.array(seq)]`, which will result either in an error or a different result.\n",
      "  return np.add.reduce(sorted[indexer] * weights, axis=axis) / sumval\n"
     ]
    },
    {
     "data": {
      "image/png": "[encoded data removed]",
      "text/plain": [
       "<Figure size 432x288 with 1 Axes>"
      ]
     },
     "metadata": {
      "needs_background": "light"
     },
     "output_type": "display_data"
    }
   ],
   "source": [
    "import seaborn as sn\n",
    "plot1=plt.subplots()\n",
    "plot1=sn.regplot(x='Area',y='w',data=data.loc[0:2,],label='Fit OLS - So sanh')\n",
    "plot1=plt.scatter(x='Area',y='w',c='red',data=data.loc[3:5,],label='Mau X')\n",
    "plt.title('Fit OLS - Mau chuan Mn-56')\n",
    "plt.legend()\n",
    "plt.savefig('Mn.png')\n",
    "plt.show()"
   ]
  },
  {
   "cell_type": "code",
   "execution_count": 10,
   "metadata": {},
   "outputs": [
    {
     "data": {
      "image/png": "[encoded data removed]",
      "text/plain": [
       "<Figure size 432x288 with 1 Axes>"
      ]
     },
     "metadata": {
      "needs_background": "light"
     },
     "output_type": "display_data"
    }
   ],
   "source": [
    "import seaborn as sn\n",
    "plot1=plt.subplots()\n",
    "plot1=sn.regplot(x='Area',y='w',data=data.loc[6:8,],label='Fit OLS - So sanh')\n",
    "plot1=plt.scatter(x='Area',y='w',c='red',data=data.loc[9:,],label='Mau X')\n",
    "plt.title('Fit OLS - Mau chuan V-52')\n",
    "plt.legend()\n",
    "plt.savefig('V.png')\n",
    "plt.show()"
   ]
  },
  {
   "cell_type": "code",
   "execution_count": 11,
   "metadata": {},
   "outputs": [],
   "source": [
    "data.to_csv('Data_Bai01_Analysis.csv')"
   ]
  }
 ],
 "metadata": {
  "kernelspec": {
   "display_name": "Python 3",
   "language": "python",
   "name": "python3"
  },
  "language_info": {
   "codemirror_mode": {
    "name": "ipython",
    "version": 3
   },
   "file_extension": ".py",
   "mimetype": "text/x-python",
   "name": "python",
   "nbconvert_exporter": "python",
   "pygments_lexer": "ipython3",
   "version": "3.7.1"
  }
 },
 "nbformat": 4,
 "nbformat_minor": 2
}
